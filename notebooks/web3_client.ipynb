{
 "cells": [
  {
   "cell_type": "markdown",
   "metadata": {},
   "source": [
    "# Web3 client"
   ]
  },
  {
   "cell_type": "code",
   "execution_count": 2,
   "metadata": {},
   "outputs": [],
   "source": [
    "from web3 import Web3\n",
    "from web3.middleware import geth_poa_middleware\n",
    "import json"
   ]
  },
  {
   "cell_type": "code",
   "execution_count": 3,
   "metadata": {},
   "outputs": [],
   "source": [
    "LIDO_ARTIFACT = 'Lido.json'\n",
    "ORACLE_ARTIFACT = 'LidoOracle.json'\n",
    "NODE_OPS_REGISTRY_ARTIFACT = 'NodeOperatorsRegistry.json'\n",
    "WEB3_URL = 'http://206.81.31.11/rpc'\n",
    "BEACON_URL = 'http://206.81.31.11:5052/eth/v1' #Lighthouse\n",
    "LIDO_ADDRESS='0xA5d26F68130c989ef3e063c9bdE33BC50a86629D'"
   ]
  },
  {
   "cell_type": "code",
   "execution_count": 4,
   "metadata": {},
   "outputs": [],
   "source": [
    "with open(LIDO_ARTIFACT) as f:\n",
    "    lido_artifact = json.load(f)\n",
    "    \n",
    "with open(ORACLE_ARTIFACT) as f:\n",
    "    oracle_artifact = json.load(f)\n",
    "    \n",
    "with open(NODE_OPS_REGISTRY_ARTIFACT) as f:\n",
    "    nops_artifact = json.load(f)"
   ]
  },
  {
   "cell_type": "code",
   "execution_count": 5,
   "metadata": {},
   "outputs": [],
   "source": [
    "w3 = Web3(Web3.HTTPProvider(WEB3_URL, request_kwargs={'timeout': 60}))\n",
    "w3.middleware_onion.inject(geth_poa_middleware, layer=0)"
   ]
  },
  {
   "cell_type": "code",
   "execution_count": 6,
   "metadata": {},
   "outputs": [
    {
     "data": {
      "text/plain": [
       "5"
      ]
     },
     "execution_count": 6,
     "metadata": {},
     "output_type": "execute_result"
    }
   ],
   "source": [
    "w3.eth.chainId"
   ]
  },
  {
   "cell_type": "code",
   "execution_count": 7,
   "metadata": {
    "scrolled": true
   },
   "outputs": [
    {
     "data": {
      "text/plain": [
       "3860988"
      ]
     },
     "execution_count": 7,
     "metadata": {},
     "output_type": "execute_result"
    }
   ],
   "source": [
    "w3.eth.blockNumber"
   ]
  },
  {
   "cell_type": "code",
   "execution_count": 8,
   "metadata": {},
   "outputs": [
    {
     "data": {
      "text/plain": [
       "'Geth/v1.9.24-unstable-97fc1c3b-20201105/linux-amd64/go1.15.3'"
      ]
     },
     "execution_count": 8,
     "metadata": {},
     "output_type": "execute_result"
    }
   ],
   "source": [
    "w3.clientVersion"
   ]
  },
  {
   "cell_type": "code",
   "execution_count": 9,
   "metadata": {},
   "outputs": [
    {
     "data": {
      "text/plain": [
       "AttributeDict({'difficulty': 1,\n",
       " 'proofOfAuthorityData': HexBytes('0x476f65726c6920496e697469617469766520417574686f726974790000000000b92c1cfee0307ba74a3231961dd77796e48828b72ea7246dd2638ce9aa63f8b93837044f3da9299134329d90918b86d6594bcb8a76fe902ca9e1a7689f56476201'),\n",
       " 'gasLimit': 8000000,\n",
       " 'gasUsed': 0,\n",
       " 'hash': HexBytes('0xf6a45b7cff36b16ed67035b107340d0239afb9dd14d5dacc02b2538b5fc1f7d8'),\n",
       " 'logsBloom': HexBytes('0x00000000000000000000000000000000000000000000000000000000000000000000000000000000000000000000000000000000000000000000000000000000000000000000000000000000000000000000000000000000000000000000000000000000000000000000000000000000000000000000000000000000000000000000000000000000000000000000000000000000000000000000000000000000000000000000000000000000000000000000000000000000000000000000000000000000000000000000000000000000000000000000000000000000000000000000000000000000000000000000000000000000000000000000000000000000'),\n",
       " 'miner': '0x0000000000000000000000000000000000000000',\n",
       " 'mixHash': HexBytes('0x0000000000000000000000000000000000000000000000000000000000000000'),\n",
       " 'nonce': HexBytes('0x0000000000000000'),\n",
       " 'number': 3860988,\n",
       " 'parentHash': HexBytes('0xafce9e726323fa406f53b01d9e32a6560b8645e76b531d982ecdfae1747343dd'),\n",
       " 'receiptsRoot': HexBytes('0x56e81f171bcc55a6ff8345e692c0f86e5b48e01b996cadc001622fb5e363b421'),\n",
       " 'sha3Uncles': HexBytes('0x1dcc4de8dec75d7aab85b567b6ccd41ad312451b948a7413f0a142fd40d49347'),\n",
       " 'size': 609,\n",
       " 'stateRoot': HexBytes('0x1d111a4e008cb1e6991c04328ad17070cc8b83db32eba96247ced3996be3fddb'),\n",
       " 'timestamp': 1606987316,\n",
       " 'totalDifficulty': 5656653,\n",
       " 'transactions': [],\n",
       " 'transactionsRoot': HexBytes('0x56e81f171bcc55a6ff8345e692c0f86e5b48e01b996cadc001622fb5e363b421'),\n",
       " 'uncles': []})"
      ]
     },
     "execution_count": 9,
     "metadata": {},
     "output_type": "execute_result"
    }
   ],
   "source": [
    "w3.eth.getBlock('latest')"
   ]
  },
  {
   "cell_type": "markdown",
   "metadata": {},
   "source": [
    "## Instantiate contracts"
   ]
  },
  {
   "cell_type": "code",
   "execution_count": 10,
   "metadata": {},
   "outputs": [
    {
     "data": {
      "text/plain": [
       "[43, 37, 1184760676725000000000]"
      ]
     },
     "execution_count": 10,
     "metadata": {},
     "output_type": "execute_result"
    }
   ],
   "source": [
    "lido = w3.eth.contract(\n",
    "    address=LIDO_ADDRESS,\n",
    "    abi=lido_artifact['abi'],\n",
    ")\n",
    "lido.functions.getBeaconStat().call()"
   ]
  },
  {
   "cell_type": "code",
   "execution_count": 11,
   "metadata": {},
   "outputs": [
    {
     "data": {
      "text/plain": [
       "('0xB1e7Fb9E9A71063ab552dDEE87Ea8C6eEc7F5c7A',\n",
       " '0x8aA931352fEdC2A5a5b3E20ed3A546414E40D86C')"
      ]
     },
     "execution_count": 11,
     "metadata": {},
     "output_type": "execute_result"
    }
   ],
   "source": [
    "nops_address = lido.functions.getOperators().call()\n",
    "oracle_address = lido.functions.getOracle().call()\n",
    "nops_address, oracle_address"
   ]
  },
  {
   "cell_type": "code",
   "execution_count": 12,
   "metadata": {},
   "outputs": [
    {
     "data": {
      "text/plain": [
       "(12, 32, 12, 1605700807)"
      ]
     },
     "execution_count": 12,
     "metadata": {},
     "output_type": "execute_result"
    }
   ],
   "source": [
    "oracle = w3.eth.contract(address=oracle_address, abi=oracle_artifact['abi'])\n",
    "( epochsPerFrame, slotsPerEpoch, secondsPerSlot, genesisTime ) = oracle.functions.beaconSpec().call()\n",
    "epochsPerFrame, slotsPerEpoch, secondsPerSlot, genesisTime "
   ]
  },
  {
   "cell_type": "code",
   "execution_count": 13,
   "metadata": {
    "scrolled": true
   },
   "outputs": [
    {
     "data": {
      "text/plain": [
       "6"
      ]
     },
     "execution_count": 13,
     "metadata": {},
     "output_type": "execute_result"
    }
   ],
   "source": [
    "nops = w3.eth.contract(address=nops_address, abi=nops_artifact['abi'])\n",
    "nops.functions.getNodeOperatorsCount().call()"
   ]
  },
  {
   "cell_type": "code",
   "execution_count": 14,
   "metadata": {},
   "outputs": [],
   "source": [
    "members_addresses = oracle.functions.getOracleMembers().call()"
   ]
  },
  {
   "cell_type": "code",
   "execution_count": 15,
   "metadata": {
    "scrolled": true
   },
   "outputs": [
    {
     "data": {
      "text/plain": [
       "(3348, 1606986439, 1606991046)"
      ]
     },
     "execution_count": 15,
     "metadata": {},
     "output_type": "execute_result"
    }
   ],
   "source": [
    "epoch, frame_start, frame_end = oracle.functions.getCurrentFrame().call()\n",
    "epoch, frame_start, frame_end"
   ]
  },
  {
   "cell_type": "code",
   "execution_count": 16,
   "metadata": {},
   "outputs": [
    {
     "data": {
      "text/plain": [
       "3350"
      ]
     },
     "execution_count": 16,
     "metadata": {},
     "output_type": "execute_result"
    }
   ],
   "source": [
    "epoch = oracle.functions.getCurrentEpochId().call()\n",
    "epoch"
   ]
  },
  {
   "cell_type": "code",
   "execution_count": 17,
   "metadata": {
    "scrolled": true
   },
   "outputs": [
    {
     "data": {
      "text/plain": [
       "2"
      ]
     },
     "execution_count": 17,
     "metadata": {},
     "output_type": "execute_result"
    }
   ],
   "source": [
    "oracle.functions.getQuorum().call()"
   ]
  },
  {
   "cell_type": "code",
   "execution_count": 18,
   "metadata": {},
   "outputs": [
    {
     "data": {
      "text/plain": [
       "6"
      ]
     },
     "execution_count": 18,
     "metadata": {},
     "output_type": "execute_result"
    }
   ],
   "source": [
    "nops.functions.getActiveNodeOperatorsCount().call()"
   ]
  },
  {
   "cell_type": "code",
   "execution_count": 19,
   "metadata": {},
   "outputs": [
    {
     "data": {
      "text/plain": [
       "(43, 37, 1184760676725000000000)"
      ]
     },
     "execution_count": 19,
     "metadata": {},
     "output_type": "execute_result"
    }
   ],
   "source": [
    "depositedValidators, beaconValidators,beaconBalance = lido.functions.getBeaconStat().call()\n",
    "depositedValidators, beaconValidators, beaconBalance"
   ]
  }
 ],
 "metadata": {
  "kernelspec": {
   "display_name": "Python 3",
   "language": "python",
   "name": "python3"
  },
  "language_info": {
   "codemirror_mode": {
    "name": "ipython",
    "version": 3
   },
   "file_extension": ".py",
   "mimetype": "text/x-python",
   "name": "python",
   "nbconvert_exporter": "python",
   "pygments_lexer": "ipython3",
   "version": "3.9.0"
  }
 },
 "nbformat": 4,
 "nbformat_minor": 4
}
